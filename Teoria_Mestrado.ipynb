{
  "nbformat": 4,
  "nbformat_minor": 0,
  "metadata": {
    "colab": {
      "provenance": [],
      "authorship_tag": "ABX9TyOcqes5gCvvv759BnLSpM56",
      "include_colab_link": true
    },
    "kernelspec": {
      "name": "python3",
      "display_name": "Python 3"
    },
    "language_info": {
      "name": "python"
    }
  },
  "cells": [
    {
      "cell_type": "markdown",
      "metadata": {
        "id": "view-in-github",
        "colab_type": "text"
      },
      "source": [
        "<a href=\"https://colab.research.google.com/github/LucasLimaSimoes/Teoria_Mestrado/blob/main/Teoria_Mestrado.ipynb\" target=\"_parent\"><img src=\"https://colab.research.google.com/assets/colab-badge.svg\" alt=\"Open In Colab\"/></a>"
      ]
    },
    {
      "cell_type": "markdown",
      "source": [
        "Trabalho 1"
      ],
      "metadata": {
        "id": "FkqKvlWO-lOh"
      }
    },
    {
      "cell_type": "markdown",
      "source": [
        "Questão 1"
      ],
      "metadata": {
        "id": "jduvpGQ4PG_G"
      }
    },
    {
      "cell_type": "code",
      "execution_count": null,
      "metadata": {
        "colab": {
          "base_uri": "https://localhost:8080/"
        },
        "cellView": "form",
        "id": "Q9kaSp-fPBt0",
        "outputId": "9d8468e0-0981-4512-d3ea-6f1d7d79efde"
      },
      "outputs": [
        {
          "output_type": "stream",
          "name": "stdout",
          "text": [
            "Aceito, nome valido\n",
            "Aceito, email valido\n",
            "Aceito, senha valida\n",
            "Aceito, CPF valido\n",
            "Aceito, telefone valido\n",
            "Aceito, data e hora validos\n",
            "Aceito, numero valido\n"
          ]
        }
      ],
      "source": [
        "import re #para lidar com expressoes regulares\n",
        "\n",
        "def mascaraNome(nome): #mascara para nomes\n",
        "  if re.findall(\"[0-9]\", nome): #se houver numeros\n",
        "    print(\"Rejeitado, ha numeros no seu nome\")\n",
        "  elif re.findall(\"\\s\", nome): #verifica se ha espacos\n",
        "    if re.match(\"^[A-Z]{1}[a-z]+ [A-Z]{1}[a-z]+$|^[A-Z]{1}[a-z]+ [A-Z]{1}[a-z]+ [A-Z]{1}[a-z]+$\", nome): #verifica se a string dada corresponde a formatacao pedida na questao\n",
        "      print(\"Aceito, nome valido\")\n",
        "    else:\n",
        "      print(\"Rejeitado, nome invalido\")\n",
        "  else:\n",
        "    print(\"Rejeitado, seu nome nao possui espacos\")\n",
        "\n",
        "def mascaraEmail(email): #mascara para emails\n",
        "  if re.match(\"^[a-z]+@{1}[a-z+]\\.com\\.br$|^[a-z]+@{1}[a-z]+\\.br$\", email): #verifica se a string dada corresponde a formatacao pedida na questao\n",
        "    print(\"Aceito, email valido\")\n",
        "  else:\n",
        "    print(\"Rejeitado, email invalido\")\n",
        "\n",
        "def mascaraSenha(senha): #mascara para senhas\n",
        "  if len(senha) != 8: #verifica tamanho da senha\n",
        "    print(\"Sua senha deve ter comprimento 8\")\n",
        "  elif re.findall(\"[A-Z]\", senha): #garante que a senha tenha ao menos 1 letra maiuscula\n",
        "    if re.findall(\"[0-9]\", senha): #garante que a senha tenha ao menos 1 numero\n",
        "      print(\"Aceito, senha valida\")\n",
        "    else:\n",
        "      print(\"Rejeitado, sua senha precisa ter numeros\")\n",
        "  else:\n",
        "    print(\"Rejeitado, sua senha precisa ter caracteres maiusculos\")\n",
        "\n",
        "def mascaraCPF(cpf): #mascara para cpf\n",
        "  if re.findall(\"[a-zA-Z]\", cpf): #verifica se ha letras no cpf\n",
        "    print(\"Rejeitado, ha letras no seu CPF\")\n",
        "  elif re.findall(\"\\s\", cpf): #verifica se ha espacos no cpf\n",
        "    print(\"Rejeitado, ha espacos no seu CPF\")\n",
        "  elif re.match(\"^\\d{3}\\.\\d{3}\\.\\d{3}\\-\\d{2}$\",cpf): #verifica se a string dada corresponde a formatacao pedida na questao\n",
        "    print(\"Aceito, CPF valido\")\n",
        "  else:\n",
        "    print(\"Rejeitado, verifique seu CPF\")\n",
        "\n",
        "def mascaraTelefone(telefone): #mascara para telefone\n",
        "  if re.findall(\"[a-zA-Z]\", telefone): #verifica se ha letras no telefone\n",
        "    print(\"Rejeitado, ha letras em seu telefone\")\n",
        "  elif re.match(\"^\\(\\d{2}\\) 9\\d{4}\\-\\d{4}$|^\\(\\d{2}\\) 9\\d{8}$|^\\d{2} 9\\d{8}$\", telefone): #verifica se a string dada corresponde as formatacoes dadas na questao\n",
        "    print(\"Aceito, telefone valido\")\n",
        "  else:\n",
        "    print(\"Rejeitado, verifique a formatacao do seu telefone\")\n",
        "\n",
        "def mascaraDataHora(data_e_hora): #mascara para data e hora\n",
        "  if re.findall(\"[a-zA-Z]\", data_e_hora): #verifica se ha letras na data\n",
        "    print(\"Rejeitado, ha letras\")\n",
        "  elif re.match(\"^\\d{2}/\\d{2}/\\d{4} \\d{2}\\:\\d{2}\\:\\d{2}$\", data_e_hora):  #verifica se a string dada corresponde a formatacao pedida na questao\n",
        "    print(\"Aceito, data e hora validos\")\n",
        "  else:\n",
        "    print(\"Rejeitado, verifique data e hora inseridos\")\n",
        "\n",
        "def mascaraNumero(numero): #mascara para numero\n",
        "  if re.findall(\"[a-zA-Z]\", numero): #verifia se ha letras no numero\n",
        "    print(\"Rejeitado, letras nao sao aceitas\")\n",
        "  else:\n",
        "    if re.findall(\",\", numero): #se estiver usando virgula\n",
        "      print(\"Rejeitado, use . ao inves de ,\")\n",
        "    elif re.findall(\"\\.\", numero): #se houver ponto decimal\n",
        "      if re.match(\"^\\+[0-9]+\\.[0-9]+$|^\\-[0-9]+\\.[0-9]+$|^[0-9]+\\.[0-9]+$\", numero):  #verifica se a string dada corresponde as formatacoes dadas na questao no caso de numeros decimais\n",
        "        print(\"Aceito, numero valido\")\n",
        "      else:\n",
        "        print(\"Rejeitado, numero invalido\")\n",
        "    else:\n",
        "      if re.match(\"^\\+[0-9]+$|^\\-[0-9]+$|^[0-9]+$\", numero):  #verifica se a string dada corresponde as formatacoes dadas na questao no caso de numeros inteiros\n",
        "        print(\"Aceito, numero valido\")\n",
        "      else:\n",
        "        print(\"Rejeitado, numero invalido\")\n",
        "\n",
        "#@markdown ### Preencha o Formulário\n",
        "nome = \"Ada Lovelace\" # @param {type:\"string\"}\n",
        "email = \"eu@gmail.br\" # @param {type:\"string\"}\n",
        "senha = \"1aA2bB3c\" # @param {type:\"string\"}\n",
        "cpf = \"123.123.123-12\" # @param {type:\"string\"}\n",
        "telefone = \"91 988221133\" # @param {type:\"string\"}\n",
        "data_e_hora = \"31/08/2019 20:14:55\" # @param {type:\"string\"}\n",
        "numero = \"+1.2\" # @param {type:\"string\"}\n",
        "\n",
        "mascaraNome(nome)\n",
        "mascaraEmail(email)\n",
        "mascaraSenha(senha)\n",
        "mascaraCPF(cpf)\n",
        "mascaraTelefone(telefone)\n",
        "mascaraDataHora(data_e_hora)\n",
        "mascaraNumero(numero)"
      ]
    },
    {
      "cell_type": "markdown",
      "source": [
        "Testes para questão 1"
      ],
      "metadata": {
        "id": "gQRyXSB-PJ6n"
      }
    },
    {
      "cell_type": "code",
      "source": [
        "import re #para lidar com expressoes regulares\n",
        "\n",
        "def mascaraNome(nome): #mascara para nomes\n",
        "  if re.match(\"^[A-Z]{1}[a-z]+ [A-Z]{1}[a-z]+$|^[A-Z]{1}[a-z]+ [A-Z]{1}[a-z]+ [A-Z]{1}[a-z]+$\", nome): #verifica se a string dada corresponde a formatacao pedida na questao\n",
        "    print(f\"{nome}: Aceito\")\n",
        "  else:\n",
        "    print(f\"{nome}: Rejeitado\")\n",
        "\n",
        "def mascaraEmail(email): #mascara para emails\n",
        "  if re.match(\"^[a-z]+@{1}[a-z+]\\.com\\.br$|^[a-z]+@{1}[a-z]+\\.br$\", email): #verifica se a string dada corresponde a formatacao pedida na questao\n",
        "    print(f\"{email}: Aceito\")\n",
        "  else:\n",
        "    print(f\"{email}: Rejeitado\")\n",
        "\n",
        "def mascaraSenha(senha): #mascara para senhas\n",
        "  if len(senha) != 8: #verifica tamanho da senha\n",
        "    print(f\"{senha}: Rejeitado\")\n",
        "  elif re.findall(\"[A-Z]\", senha): #garante que a senha tenha ao menos 1 letra maiuscula\n",
        "    if re.findall(\"[0-9]\", senha): #garante que a senha tenha ao menos 1 numero\n",
        "      print(f\"{senha}: Aceito\")\n",
        "    else:\n",
        "      print(f\"{senha}: Rejeitado\")\n",
        "  else:\n",
        "    print(f\"{senha}: Rejeitado\")\n",
        "\n",
        "def mascaraCPF(cpf): #mascara para cpf\n",
        "  if re.match(\"^\\d{3}\\.\\d{3}\\.\\d{3}\\-\\d{2}$\",cpf): #verifica se a string dada corresponde a formatacao pedida na questao\n",
        "    print(f\"{cpf}: Aceito\")\n",
        "  else:\n",
        "    print(f\"{cpf}: Rejeitado\")\n",
        "\n",
        "def mascaraTelefone(telefone): #mascara para telefone\n",
        "  if re.match(\"^\\(\\d{2}\\) 9\\d{4}\\-\\d{4}$|^\\(\\d{2}\\) 9\\d{8}$|^\\d{2} 9\\d{8}$\", telefone): #verifica se a string dada corresponde as formatacoes dadas na questao\n",
        "    print(f\"{telefone}: Aceito\")\n",
        "  else:\n",
        "    print(f\"{telefone}: Rejeitado\")\n",
        "\n",
        "def mascaraDataHora(data_e_hora): #mascara para data e hora\n",
        "  if re.match(\"^\\d{2}/\\d{2}/\\d{4} \\d{2}\\:\\d{2}\\:\\d{2}$\", data_e_hora):  #verifica se a string dada corresponde a formatacao pedida na questao\n",
        "    print(f\"{data_e_hora}: Aceito\")\n",
        "  else:\n",
        "    print(f\"{data_e_hora}: Rejeitado\")\n",
        "\n",
        "def mascaraNumero(numero): #mascara para numero\n",
        "    if re.findall(\"\\.\", numero): #se houver ponto decimal\n",
        "      if re.match(\"^\\+[0-9]+\\.[0-9]+$|^\\-[0-9]+\\.[0-9]+$|^[0-9]+\\.[0-9]+$\", numero):  #verifica se a string dada corresponde as formatacoes dadas na questao no caso de numeros decimais\n",
        "        print(f\"{numero}: Aceito\")\n",
        "      else:\n",
        "        print(f\"{numero}: Rejeitado\")\n",
        "    else:\n",
        "      if re.match(\"^\\+[0-9]+$|^\\-[0-9]+$|^[0-9]+$\", numero):  #verifica se a string dada corresponde as formatacoes dadas na questao no caso de numeros inteiros\n",
        "        print(f\"{numero}: Aceito\")\n",
        "      else:\n",
        "        print(f\"{numero}: Rejeitado\")\n",
        "\n",
        "nomes = [\"Ada Lovelace\", \"Alan Turing\", \"Stephen Cole Kleene\", \"1Alan\", \"Alan\", \"A1an\", \"A1an Turing\", \"Alan turing\", \"alan Turing\", \"alan turing\", \"AlanTuring\", \"alanTuring\", \"Alanturing\", \"alanturing\", \"Stephen cole Kleene\", \"StephenCole Kleene\"]\n",
        "emails = [\"a@a.br\", \"divulga@ufpa.br\", \"a@a.com.br\", \"@\", \"a@.br\", \"@a.br\", \"T@teste.br\", \"a@A.com.br\", \"a@@a.br\", \"1@a.com.br\", \"a@1.br\", \"eu@gmail.com\", \"eu@gmail.com.b\"]\n",
        "senhas = [\"518R2r5e\", \"F123456A\", \"1234567T\", \"ropsSoq0\", \"F1234567A\", \"abcdefgH\", \"1234567HI\", \"1234567o\"]\n",
        "cpfs = [\"123.456.789-09\", \"000.000.000-00\", \"123.456.789-0\", \"111.111.11-11\", \"123.12.123-12\", \"12.123.123-12\",\"..-\", \"1234.123.123-12\", \"123.1234.123-12\", \"123.123.1234-12\", \"123.123.123-123\", \"a23.123.123-12\", \"12312312312\"]\n",
        "telefones = [\"(91) 99999-9999\", \"(91) 999999999\", \"91 999999999\", \"(91) 59999-9999\", \"99 99999-9999\", \"(94)95555-5555\", \"(91) 99999 9999\", \"ab 923120909\"]\n",
        "data_e_horas = [\"31/08/2019 20:14:55\", \"99/99/9999 23:59:59\", \"99/99/9999 3:9:9\", \"9/9/99 99:99:99\", \"99/99/999903:09:09\", \"99/99/9999 99:99:999\", \"99/99/999923:59:59\", \"23:59:59 99/99/9999\"]\n",
        "numeros = [\"-25.467\", \"1\", \"-1\", \"+1\", \"64.2\", \"1.\"\", \"\".2\", \"+64,2\", \".\", \"+.\"]\n",
        "\n",
        "for nome in nomes:\n",
        "  mascaraNome(nome)\n",
        "print(\"--------------------------------------------------\")\n",
        "for email in emails:\n",
        "  mascaraEmail(email)\n",
        "print(\"--------------------------------------------------\")\n",
        "for senha in senhas:\n",
        "  mascaraSenha(senha)\n",
        "print(\"--------------------------------------------------\")\n",
        "for cpf in cpfs:\n",
        "  mascaraCPF(cpf)\n",
        "print(\"--------------------------------------------------\")\n",
        "for telefone in telefones:\n",
        "  mascaraTelefone(telefone)\n",
        "print(\"--------------------------------------------------\")\n",
        "for data_e_hora in data_e_horas:\n",
        "  mascaraDataHora(data_e_hora)\n",
        "print(\"--------------------------------------------------\")\n",
        "for numero in numeros:\n",
        "  mascaraNumero(numero)"
      ],
      "metadata": {
        "colab": {
          "base_uri": "https://localhost:8080/"
        },
        "id": "Yfj5YtB-PNr0",
        "outputId": "2f3323f8-8975-4e4f-f824-f94598126b4a"
      },
      "execution_count": null,
      "outputs": [
        {
          "output_type": "stream",
          "name": "stdout",
          "text": [
            "Ada Lovelace: Aceito\n",
            "Alan Turing: Aceito\n",
            "Stephen Cole Kleene: Aceito\n",
            "1Alan: Rejeitado\n",
            "Alan: Rejeitado\n",
            "A1an: Rejeitado\n",
            "A1an Turing: Rejeitado\n",
            "Alan turing: Rejeitado\n",
            "alan Turing: Rejeitado\n",
            "alan turing: Rejeitado\n",
            "AlanTuring: Rejeitado\n",
            "alanTuring: Rejeitado\n",
            "Alanturing: Rejeitado\n",
            "alanturing: Rejeitado\n",
            "Stephen cole Kleene: Rejeitado\n",
            "StephenCole Kleene: Rejeitado\n",
            "--------------------------------------------------\n",
            "a@a.br: Aceito\n",
            "divulga@ufpa.br: Aceito\n",
            "a@a.com.br: Aceito\n",
            "@: Rejeitado\n",
            "a@.br: Rejeitado\n",
            "@a.br: Rejeitado\n",
            "T@teste.br: Rejeitado\n",
            "a@A.com.br: Rejeitado\n",
            "a@@a.br: Rejeitado\n",
            "1@a.com.br: Rejeitado\n",
            "a@1.br: Rejeitado\n",
            "eu@gmail.com: Rejeitado\n",
            "eu@gmail.com.b: Rejeitado\n",
            "--------------------------------------------------\n",
            "518R2r5e: Aceito\n",
            "F123456A: Aceito\n",
            "1234567T: Aceito\n",
            "ropsSoq0: Aceito\n",
            "F1234567A: Rejeitado\n",
            "abcdefgH: Rejeitado\n",
            "1234567HI: Rejeitado\n",
            "1234567o: Rejeitado\n",
            "--------------------------------------------------\n",
            "123.456.789-09: Aceito\n",
            "000.000.000-00: Aceito\n",
            "123.456.789-0: Rejeitado\n",
            "111.111.11-11: Rejeitado\n",
            "123.12.123-12: Rejeitado\n",
            "12.123.123-12: Rejeitado\n",
            "..-: Rejeitado\n",
            "1234.123.123-12: Rejeitado\n",
            "123.1234.123-12: Rejeitado\n",
            "123.123.1234-12: Rejeitado\n",
            "123.123.123-123: Rejeitado\n",
            "a23.123.123-12: Rejeitado\n",
            "12312312312: Rejeitado\n",
            "--------------------------------------------------\n",
            "(91) 99999-9999: Aceito\n",
            "(91) 999999999: Aceito\n",
            "91 999999999: Aceito\n",
            "(91) 59999-9999: Rejeitado\n",
            "99 99999-9999: Rejeitado\n",
            "(94)95555-5555: Rejeitado\n",
            "(91) 99999 9999: Rejeitado\n",
            "ab 923120909: Rejeitado\n",
            "--------------------------------------------------\n",
            "31/08/2019 20:14:55: Aceito\n",
            "99/99/9999 23:59:59: Aceito\n",
            "99/99/9999 3:9:9: Rejeitado\n",
            "9/9/99 99:99:99: Rejeitado\n",
            "99/99/999903:09:09: Rejeitado\n",
            "99/99/9999 99:99:999: Rejeitado\n",
            "99/99/999923:59:59: Rejeitado\n",
            "23:59:59 99/99/9999: Rejeitado\n",
            "--------------------------------------------------\n",
            "-25.467: Aceito\n",
            "1: Aceito\n",
            "-1: Aceito\n",
            "+1: Aceito\n",
            "64.2: Aceito\n",
            "1., .2: Rejeitado\n",
            "+64,2: Rejeitado\n",
            ".: Rejeitado\n",
            "+.: Rejeitado\n"
          ]
        }
      ]
    },
    {
      "cell_type": "markdown",
      "source": [
        "Questão 2"
      ],
      "metadata": {
        "id": "9gvVNXddPP7A"
      }
    },
    {
      "cell_type": "code",
      "source": [
        "import re #para lidar com expressoes regulares\n",
        "\n",
        "def validaFamilia(familia, x, y): #funcao que faz validacao da familia\n",
        "  if re.match(\"^(HM|MH)(h|m)*(h*mh*mh*|m*hm*|hhm|hmh|mhh)(h|m)*$\", familia): #item a\n",
        "    print(\"Familia aceita a\")\n",
        "  if re.match(\"^(HM|MH)(h*mh*(mh*mh*)*)$\", familia): #item b\n",
        "    print(\"Familia aceita b\")\n",
        "  if re.match(\"^(HM|MH)m(h|m)*h$\", familia): #item c\n",
        "    print(\"Familia aceita c\")\n",
        "  if re.match(\"^(HH|MM)(hm|mh)(h|m)(h|m)(h|m)*(hm|mh)$\", familia): #item d\n",
        "    print(\"Familia aceita d\")\n",
        "  if re.match(\"^(HH|MM)((hm)+|(mh)+)$\", familia): #item e\n",
        "    print(\"Familia aceita e\")\n",
        "  if re.match(\"^(HH|MM)m*(hm+)*(m*$|h$)\", familia): #item f\n",
        "    print(\"Familia aceita f\")\n",
        "  if x <= y:\n",
        "    expressao = \"^(H|M){\"+str(x)+\",\"+str(y)+\"}(h|m)*(m$|mh$|mhh$)|^(H|M){\"+str(x)+\",\"+str(y)+\"}$\"\n",
        "    ex_comp = re.compile(expressao)\n",
        "    if ex_comp.match(familia): #item g\n",
        "      print(\"Familia aceita g\")\n",
        "  else:\n",
        "    print(\"x deve ser menor ou igual a y\")\n",
        "\n",
        "#@markdown ### Insira uma configuração familiar\n",
        "familia = \"HMmmh\" # @param {type:\"string\"}\n",
        "x = 1 # @param {type:\"integer\"}\n",
        "y = 5 # @param {type:\"integer\"}\n",
        "validaFamilia(familia, x, y)"
      ],
      "metadata": {
        "cellView": "form",
        "colab": {
          "base_uri": "https://localhost:8080/"
        },
        "id": "Xo5CssZiPRrg",
        "outputId": "50b8073c-e122-4571-ae73-1bd47338dcc8"
      },
      "execution_count": null,
      "outputs": [
        {
          "output_type": "stream",
          "name": "stdout",
          "text": [
            "Familia aceita a\n",
            "Familia aceita c\n",
            "Familia aceita g\n"
          ]
        }
      ]
    },
    {
      "cell_type": "markdown",
      "source": [
        "Testes para questão 2"
      ],
      "metadata": {
        "id": "mBlWoCxOPVV9"
      }
    },
    {
      "cell_type": "code",
      "source": [
        "import re #para lidar com expressoes regulares\n",
        "\n",
        "def testaFamiliaAF(familia): #funcao que faz validacao da familia\n",
        "  if re.match(\"^(HM|MH)(h|m)*(h*mh*mh*|m*hm*|hhm|hmh|mhh)(h|m)*$\", familia): #item a\n",
        "    print(\"Familia aceita a\")\n",
        "  if re.match(\"^(HM|MH)(h*mh*(mh*mh*)*)$\", familia): #item b\n",
        "    print(\"Familia aceita b\")\n",
        "  if re.match(\"^(HM|MH)m(h|m)*h$\", familia): #item c\n",
        "    print(\"Familia aceita c\")\n",
        "  if re.match(\"^(HH|MM)(hm|mh)(h|m)(h|m)(h|m)*(hm|mh)$\", familia): #item d\n",
        "    print(\"Familia aceita d\")\n",
        "  if re.match(\"^(HH|MM)((hm)+|(mh)+)$\", familia): #item e\n",
        "    print(\"Familia aceita e\")\n",
        "  if re.match(\"^(HH|MM)m*(hm+)*(m*$|h$)\", familia): #item f\n",
        "    print(\"Familia aceita f\")\n",
        "\n",
        "def testaFamiliaG(familia, x, y):\n",
        "  if x <= y:\n",
        "    expressao = \"^(H|M){\"+str(x)+\",\"+str(y)+\"}(h|m)*(m$|mh$|mhh$)|^(H|M){\"+str(x)+\",\"+str(y)+\"}$\"\n",
        "    ex_comp = re.compile(expressao)\n",
        "    if ex_comp.match(familia): #item g\n",
        "      print(\"Familia aceita g\")\n",
        "  else:\n",
        "    print(\"x deve ser menor ou igual a y\")\n",
        "\n",
        "familias = [\"HMmmh\", \"MHhmh\", \"MHhhmhhhmm\", \"HMmmhhhhh\", \"MHm\", \"M\", \"H\", \"MH\", \"HMmh\", \"hmHM\", \"HHhmmmmhm\", \"MMhmhmhmhm\", \"MMmmhmmhm\", \"MMHmhmhm\", \"HH\", \"HHhmhmhmhmhmhmhmhmhmhmhmhmhmhmhmhm\", \"HHmhmhhmmh\", \"HMhmmhmmmh\", \"HHmhmhmhmhmhmhm\", \"MMhmmmhm\", \"HHmhmhmhmhmhmhh\", \"HMmmhhhhhh\", \"HMmhmmhh\", \"MMmhmhmmhh\", \"MMhhhmhh\", \"MMhmmmmh\", \"HMhmmmhmh\", \"MHmhhhhhhhh\", \"HMmmh\", \"\"]\n",
        "for familia in familias:\n",
        "  print(f\"Familia: {familia}\")\n",
        "  testaFamiliaAF(familia)\n",
        "  print(\"--------------------------------------------------\")\n",
        "\n",
        "familiasg = [\"H\", \"MMHMHHH\", \"HMMmhhmhh\", \"HMmmmmmmmm\", \"HMMmhmmmmmhhmmm\", \"Mmmmmmhhhh\", \"HMHHMHHmmmmhhmmmmmmmmh\", \"hmHHH\", \"HMMMMMMMMMMMMMMMMMMMMMMMMMMMMMMMMMMMMMMMMMMMMMMMMMMMMMMMMMMMMMMMMM\", \"HMMMhhhhhhhhhhhhhhhhhhh\", \"HMmhhm\", \"HMMMMmmmmmmmmm\"]\n",
        "x = [1, 10, 2, 5, 1, 0, 2, 3, 6, 2, 3, 1]\n",
        "y = [2, 5, 4, 6, 3, 5, 8, 6, 99, 9, 5, 3]\n",
        "for i in range(len(familiasg)):\n",
        "  print(f\"Familia: {familiasg[i]} | X: {x[i]} | Y: {y[i]}\")\n",
        "  testaFamiliaG(familiasg[i], x[i], y[i])\n",
        "  print(\"--------------------------------------------------\")"
      ],
      "metadata": {
        "colab": {
          "base_uri": "https://localhost:8080/"
        },
        "id": "C2932INPPccu",
        "outputId": "a504492f-8ce5-4aca-be86-cb9c4c9cf59b"
      },
      "execution_count": null,
      "outputs": [
        {
          "output_type": "stream",
          "name": "stdout",
          "text": [
            "Familia: HMmmh\n",
            "Familia aceita a\n",
            "Familia aceita c\n",
            "--------------------------------------------------\n",
            "Familia: MHhmh\n",
            "Familia aceita a\n",
            "Familia aceita b\n",
            "--------------------------------------------------\n",
            "Familia: MHhhmhhhmm\n",
            "Familia aceita a\n",
            "Familia aceita b\n",
            "--------------------------------------------------\n",
            "Familia: HMmmhhhhh\n",
            "Familia aceita a\n",
            "Familia aceita c\n",
            "--------------------------------------------------\n",
            "Familia: MHm\n",
            "Familia aceita b\n",
            "--------------------------------------------------\n",
            "Familia: M\n",
            "--------------------------------------------------\n",
            "Familia: H\n",
            "--------------------------------------------------\n",
            "Familia: MH\n",
            "--------------------------------------------------\n",
            "Familia: HMmh\n",
            "Familia aceita a\n",
            "Familia aceita b\n",
            "Familia aceita c\n",
            "--------------------------------------------------\n",
            "Familia: hmHM\n",
            "--------------------------------------------------\n",
            "Familia: HHhmmmmhm\n",
            "Familia aceita d\n",
            "Familia aceita f\n",
            "--------------------------------------------------\n",
            "Familia: MMhmhmhmhm\n",
            "Familia aceita d\n",
            "Familia aceita e\n",
            "Familia aceita f\n",
            "--------------------------------------------------\n",
            "Familia: MMmmhmmhm\n",
            "Familia aceita f\n",
            "--------------------------------------------------\n",
            "Familia: MMHmhmhm\n",
            "--------------------------------------------------\n",
            "Familia: HH\n",
            "Familia aceita f\n",
            "--------------------------------------------------\n",
            "Familia: HHhmhmhmhmhmhmhmhmhmhmhmhmhmhmhmhm\n",
            "Familia aceita d\n",
            "Familia aceita e\n",
            "Familia aceita f\n",
            "--------------------------------------------------\n",
            "Familia: HHmhmhhmmh\n",
            "Familia aceita d\n",
            "--------------------------------------------------\n",
            "Familia: HMhmmhmmmh\n",
            "Familia aceita a\n",
            "Familia aceita b\n",
            "--------------------------------------------------\n",
            "Familia: HHmhmhmhmhmhmhm\n",
            "Familia aceita d\n",
            "Familia aceita f\n",
            "--------------------------------------------------\n",
            "Familia: MMhmmmhm\n",
            "Familia aceita d\n",
            "Familia aceita f\n",
            "--------------------------------------------------\n",
            "Familia: HHmhmhmhmhmhmhh\n",
            "--------------------------------------------------\n",
            "Familia: HMmmhhhhhh\n",
            "Familia aceita a\n",
            "Familia aceita c\n",
            "--------------------------------------------------\n",
            "Familia: HMmhmmhh\n",
            "Familia aceita a\n",
            "Familia aceita b\n",
            "Familia aceita c\n",
            "--------------------------------------------------\n",
            "Familia: MMmhmhmmhh\n",
            "--------------------------------------------------\n",
            "Familia: MMhhhmhh\n",
            "--------------------------------------------------\n",
            "Familia: MMhmmmmh\n",
            "Familia aceita d\n",
            "Familia aceita f\n",
            "--------------------------------------------------\n",
            "Familia: HMhmmmhmh\n",
            "Familia aceita a\n",
            "--------------------------------------------------\n",
            "Familia: MHmhhhhhhhh\n",
            "Familia aceita a\n",
            "Familia aceita b\n",
            "Familia aceita c\n",
            "--------------------------------------------------\n",
            "Familia: HMmmh\n",
            "Familia aceita a\n",
            "Familia aceita c\n",
            "--------------------------------------------------\n",
            "Familia: \n",
            "--------------------------------------------------\n",
            "Familia: H | X: 1 | Y: 2\n",
            "Familia aceita g\n",
            "--------------------------------------------------\n",
            "Familia: MMHMHHH | X: 10 | Y: 5\n",
            "x deve ser menor ou igual a y\n",
            "--------------------------------------------------\n",
            "Familia: HMMmhhmhh | X: 2 | Y: 4\n",
            "Familia aceita g\n",
            "--------------------------------------------------\n",
            "Familia: HMmmmmmmmm | X: 5 | Y: 6\n",
            "--------------------------------------------------\n",
            "Familia: HMMmhmmmmmhhmmm | X: 1 | Y: 3\n",
            "Familia aceita g\n",
            "--------------------------------------------------\n",
            "Familia: Mmmmmmhhhh | X: 0 | Y: 5\n",
            "--------------------------------------------------\n",
            "Familia: HMHHMHHmmmmhhmmmmmmmmh | X: 2 | Y: 8\n",
            "Familia aceita g\n",
            "--------------------------------------------------\n",
            "Familia: hmHHH | X: 3 | Y: 6\n",
            "--------------------------------------------------\n",
            "Familia: HMMMMMMMMMMMMMMMMMMMMMMMMMMMMMMMMMMMMMMMMMMMMMMMMMMMMMMMMMMMMMMMMM | X: 6 | Y: 99\n",
            "Familia aceita g\n",
            "--------------------------------------------------\n",
            "Familia: HMMMhhhhhhhhhhhhhhhhhhh | X: 2 | Y: 9\n",
            "--------------------------------------------------\n",
            "Familia: HMmhhm | X: 3 | Y: 5\n",
            "--------------------------------------------------\n",
            "Familia: HMMMMmmmmmmmmm | X: 1 | Y: 3\n",
            "--------------------------------------------------\n"
          ]
        }
      ]
    },
    {
      "cell_type": "markdown",
      "source": [
        "Trabalho 2"
      ],
      "metadata": {
        "id": "TjJi4cLk-ok4"
      }
    },
    {
      "cell_type": "markdown",
      "source": [
        "Questão 1"
      ],
      "metadata": {
        "id": "12W1eVXG-vTX"
      }
    },
    {
      "cell_type": "code",
      "source": [
        "pip install automathon #instalar biblioteca para automatos"
      ],
      "metadata": {
        "colab": {
          "base_uri": "https://localhost:8080/"
        },
        "id": "BrDR0Y4M-yR_",
        "outputId": "5d4c5cf1-2f7c-4bab-b9b2-e9f01f07e402"
      },
      "execution_count": null,
      "outputs": [
        {
          "output_type": "stream",
          "name": "stdout",
          "text": [
            "Collecting automathon\n",
            "  Downloading automathon-0.0.15-py3-none-any.whl (13 kB)\n",
            "Collecting graphviz==0.16 (from automathon)\n",
            "  Downloading graphviz-0.16-py2.py3-none-any.whl (19 kB)\n",
            "Installing collected packages: graphviz, automathon\n",
            "  Attempting uninstall: graphviz\n",
            "    Found existing installation: graphviz 0.20.3\n",
            "    Uninstalling graphviz-0.20.3:\n",
            "      Successfully uninstalled graphviz-0.20.3\n",
            "Successfully installed automathon-0.0.15 graphviz-0.16\n"
          ]
        }
      ]
    },
    {
      "cell_type": "code",
      "source": [
        "#pip install graphviz #instalar biblioteca pra gerar a imagem do automato"
      ],
      "metadata": {
        "id": "4dpJplo7-0bf"
      },
      "execution_count": null,
      "outputs": []
    },
    {
      "cell_type": "markdown",
      "source": [
        "a) (ab\\*c\\*)\\*"
      ],
      "metadata": {
        "id": "fBxUdIEq-4lP"
      }
    },
    {
      "cell_type": "code",
      "source": [
        "from automathon import DFA #importar automato finito deterministico\n",
        "\n",
        "Q_a = {\"q0\", \"q1\", \"q2\", \"q3\"}\n",
        "alfabeto_a = {\"a\", \"b\", \"c\", \"ε\"}\n",
        "trasicao_a = {\n",
        "    \"q0\" : {\"a\" : \"q1\", \"ε\" : \"q0\"},\n",
        "    \"q1\" : {\"a\" : \"q1\", \"b\" : \"q2\", \"c\" : \"q3\"},\n",
        "    \"q2\" : {\"a\" : \"q1\", \"b\": \"q2\", \"c\" : \"q3\"},\n",
        "    \"q3\" : {\"a\" : \"q1\", \"c\" : \"q3\"}\n",
        "}\n",
        "F_a = {\"q0\", \"q1\", \"q2\", \"q3\"}\n",
        "\n",
        "automato_a = DFA(Q_a, alfabeto_a, trasicao_a, \"q0\", F_a)\n",
        "print(automato_a.is_valid())\n",
        "#automato_a.view(\"Automato1a\")"
      ],
      "metadata": {
        "colab": {
          "base_uri": "https://localhost:8080/"
        },
        "id": "g_aJ4g9u-5Cn",
        "outputId": "7b37bf31-3e07-44e8-8c4e-7fb6ae781cc0"
      },
      "execution_count": null,
      "outputs": [
        {
          "output_type": "stream",
          "name": "stdout",
          "text": [
            "True\n"
          ]
        }
      ]
    },
    {
      "cell_type": "code",
      "source": [
        "testes_a = [\"a\", \"abbba\", \"abbcc\", \"abaccaca\", \"aaaaaaaaaa\", \"abcabc\", \"aaaabbbbbaaaacccc\", \"aaaccc\", \"aaabbb\", \"abcaabbbbbbccccccabbbbacccc\", \"ε\", \"baac\", \"caa\", \"bcabc\", \"abcabcacb\", \"bcbc\", \"abcbc\", \"bc\", \"bbbbbb\", \"cccccccc\", \"abcbccbcba\"]\n",
        "for teste in testes_a:\n",
        "  print(f\"w = {teste} | aceito = {automato_a.accept(teste)}\")"
      ],
      "metadata": {
        "colab": {
          "base_uri": "https://localhost:8080/"
        },
        "id": "kBa7_ZJ9-734",
        "outputId": "5c227350-2ee7-43b1-cc59-1775980abeae"
      },
      "execution_count": null,
      "outputs": [
        {
          "output_type": "stream",
          "name": "stdout",
          "text": [
            "w = a | aceito = True\n",
            "w = abbba | aceito = True\n",
            "w = abbcc | aceito = True\n",
            "w = abaccaca | aceito = True\n",
            "w = aaaaaaaaaa | aceito = True\n",
            "w = abcabc | aceito = True\n",
            "w = aaaabbbbbaaaacccc | aceito = True\n",
            "w = aaaccc | aceito = True\n",
            "w = aaabbb | aceito = True\n",
            "w = abcaabbbbbbccccccabbbbacccc | aceito = True\n",
            "w = ε | aceito = True\n",
            "w = baac | aceito = False\n",
            "w = caa | aceito = False\n",
            "w = bcabc | aceito = False\n",
            "w = abcabcacb | aceito = False\n",
            "w = bcbc | aceito = False\n",
            "w = abcbc | aceito = False\n",
            "w = bc | aceito = False\n",
            "w = bbbbbb | aceito = False\n",
            "w = cccccccc | aceito = False\n",
            "w = abcbccbcba | aceito = False\n"
          ]
        }
      ]
    },
    {
      "cell_type": "markdown",
      "source": [
        "b) aaa(b|c)\\*|(b|c)\\*aaa"
      ],
      "metadata": {
        "id": "3q20OiF3_F0L"
      }
    },
    {
      "cell_type": "code",
      "source": [
        "from automathon import DFA #importar automato finito deterministico\n",
        "\n",
        "Q_b = {\"q0\", \"q1\", \"q2\", \"q3\", \"q4\", \"q5\", \"q6\", \"q7\"}\n",
        "alfabeto_b = {\"a\", \"b\", \"c\", \"ε\"}\n",
        "trasicao_b = {\n",
        "    \"q0\" : {\"a\" : \"q1\", \"b\" : \"q4\", \"c\": \"q4\", \"ε\" : \"q0\"},\n",
        "    \"q1\" : {\"a\" : \"q2\"},\n",
        "    \"q2\" : {\"a\" : \"q3\"},\n",
        "    \"q3\" : {\"b\" : \"q3\", \"c\" : \"q3\"},\n",
        "    \"q4\" : {\"a\" : \"q5\", \"b\" : \"q4\", \"c\": \"q4\"},\n",
        "    \"q5\" : {\"a\" : \"q6\"},\n",
        "    \"q6\" : {\"a\" : \"q7\"},\n",
        "}\n",
        "F_b = {\"q3\", \"q7\"}\n",
        "\n",
        "automato_b = DFA(Q_b, alfabeto_b, trasicao_b, \"q0\", F_b)\n",
        "print(automato_b.is_valid())\n",
        "#automato_b.view(\"Automato1b\")"
      ],
      "metadata": {
        "colab": {
          "base_uri": "https://localhost:8080/"
        },
        "id": "J19hbMqw_HM7",
        "outputId": "041bd1fc-3d58-4cdb-9871-b7dcb7f6377a"
      },
      "execution_count": null,
      "outputs": [
        {
          "output_type": "stream",
          "name": "stdout",
          "text": [
            "True\n"
          ]
        }
      ]
    },
    {
      "cell_type": "code",
      "source": [
        "testes_b = [\"aaa\", \"aaabcbb\", \"aaaccbcbbccc\", \"bbcbbcbcaaa\", \"ccccccaaa\", \"bbbccccaaa\", \"aaabbbbb\", \"aaaccccc\", \"bbbbbaaa\", \"cccccaaa\", \"ε\", \"aabcb\", \"ccbaa\", \"abc\", \"cba\", \"aaaabc\", \"bcaaaa\", \"aaaa\", \"bc\", \"aaabcaaa\", \"aa\"]\n",
        "for teste in testes_b:\n",
        "  print(f\"w = {teste} | aceito = {automato_b.accept(teste)}\")"
      ],
      "metadata": {
        "colab": {
          "base_uri": "https://localhost:8080/"
        },
        "id": "Lf6SewfK_IzD",
        "outputId": "4044eb59-53ca-4624-e6a9-8ac28c1cc4b2"
      },
      "execution_count": null,
      "outputs": [
        {
          "output_type": "stream",
          "name": "stdout",
          "text": [
            "w = aaa | aceito = True\n",
            "w = aaabcbb | aceito = True\n",
            "w = aaaccbcbbccc | aceito = True\n",
            "w = bbcbbcbcaaa | aceito = True\n",
            "w = ccccccaaa | aceito = True\n",
            "w = bbbccccaaa | aceito = True\n",
            "w = aaabbbbb | aceito = True\n",
            "w = aaaccccc | aceito = True\n",
            "w = bbbbbaaa | aceito = True\n",
            "w = cccccaaa | aceito = True\n",
            "w = ε | aceito = False\n",
            "w = aabcb | aceito = False\n",
            "w = ccbaa | aceito = False\n",
            "w = abc | aceito = False\n",
            "w = cba | aceito = False\n",
            "w = aaaabc | aceito = False\n",
            "w = bcaaaa | aceito = False\n",
            "w = aaaa | aceito = False\n",
            "w = bc | aceito = False\n",
            "w = aaabcaaa | aceito = False\n",
            "w = aa | aceito = False\n"
          ]
        }
      ]
    },
    {
      "cell_type": "markdown",
      "source": [
        "c) a\\*b|ab\\*"
      ],
      "metadata": {
        "id": "KPgqUdwO_KwM"
      }
    },
    {
      "cell_type": "code",
      "source": [
        "from automathon import DFA #importar automato finito deterministico\n",
        "\n",
        "Q_c = {\"q0\", \"q1\", \"q2\", \"q3\", \"q4\"}\n",
        "alfabeto_c = {\"a\", \"b\", \"ε\"}\n",
        "trasicao_c = {\n",
        "    \"q0\" : {\"a\" : \"q1\", \"b\" : \"q4\", \"ε\" : \"q0\"},\n",
        "    \"q1\" : {\"a\" : \"q3\", \"b\" : \"q2\"},\n",
        "    \"q2\" : {\"b\" : \"q2\"},\n",
        "    \"q3\" : {\"a\" : \"q3\", \"b\" : \"q4\"}\n",
        "}\n",
        "F_c = {\"q1\", \"q2\", \"q4\"}\n",
        "\n",
        "automato_c = DFA(Q_c, alfabeto_c, trasicao_c, \"q0\", F_c)\n",
        "print(automato_c.is_valid())\n",
        "#automato_c.view(\"Automato1c\")"
      ],
      "metadata": {
        "colab": {
          "base_uri": "https://localhost:8080/"
        },
        "id": "d9ZbIEbe_MPe",
        "outputId": "8bdbd644-3daf-45ad-8037-a37f6befc9d6"
      },
      "execution_count": null,
      "outputs": [
        {
          "output_type": "stream",
          "name": "stdout",
          "text": [
            "True\n"
          ]
        }
      ]
    },
    {
      "cell_type": "code",
      "source": [
        "testes_c = [\"a\", \"b\", \"aaaaaaab\", \"abbbbbbb\", \"aaab\", \"abbb\", \"ab\", \"ε\", \"aabb\", \"ba\", \"bba\", \"aba\", \"bab\", \"bbbbbbbbb\", \"aaaaaaa\", \"aaaabbbb\", \"bbbbbbbbbaaaaaa\"]\n",
        "for teste in testes_c:\n",
        "  print(f\"w = {teste} | aceito = {automato_c.accept(teste)}\")"
      ],
      "metadata": {
        "colab": {
          "base_uri": "https://localhost:8080/"
        },
        "id": "knTqdxoG_N6W",
        "outputId": "8785d62f-0369-459f-bb05-6c41959e8910"
      },
      "execution_count": null,
      "outputs": [
        {
          "output_type": "stream",
          "name": "stdout",
          "text": [
            "w = a | aceito = True\n",
            "w = b | aceito = True\n",
            "w = aaaaaaab | aceito = True\n",
            "w = abbbbbbb | aceito = True\n",
            "w = aaab | aceito = True\n",
            "w = abbb | aceito = True\n",
            "w = ab | aceito = True\n",
            "w = ε | aceito = False\n",
            "w = aabb | aceito = False\n",
            "w = ba | aceito = False\n",
            "w = bba | aceito = False\n",
            "w = aba | aceito = False\n",
            "w = bab | aceito = False\n",
            "w = bbbbbbbbb | aceito = False\n",
            "w = aaaaaaa | aceito = False\n",
            "w = aaaabbbb | aceito = False\n",
            "w = bbbbbbbbbaaaaaa | aceito = False\n"
          ]
        }
      ]
    },
    {
      "cell_type": "markdown",
      "source": [
        "d) a\\*b\\*(a|ac\\*)"
      ],
      "metadata": {
        "id": "p8hm_1eH_QbP"
      }
    },
    {
      "cell_type": "code",
      "source": [
        "from automathon import DFA #importar automato finito deterministico\n",
        "\n",
        "Q_d = {\"q0\", \"q1\", \"q2\", \"q3\"}\n",
        "alfabeto_d = {\"a\", \"b\", \"c\", \"ε\"}\n",
        "trasicao_d = {\n",
        "    \"q0\" : {\"a\" : \"q1\", \"b\" : \"q3\", \"ε\" : \"q0\"},\n",
        "    \"q1\" : {\"a\" : \"q1\", \"b\" : \"q3\", \"c\" : \"q2\"},\n",
        "    \"q2\" : {\"c\" : \"q2\"},\n",
        "    \"q3\" : {\"a\" : \"q2\", \"b\" : \"q3\"}\n",
        "}\n",
        "F_d = {\"q1\", \"q2\"}\n",
        "\n",
        "automato_d = DFA(Q_d, alfabeto_d, trasicao_d, \"q0\", F_d)\n",
        "print(automato_d.is_valid())\n",
        "#automato_d.view(\"Automato1d\")"
      ],
      "metadata": {
        "colab": {
          "base_uri": "https://localhost:8080/"
        },
        "id": "Ks9hNIq3_Q7O",
        "outputId": "d43af1d5-54a0-4929-9cc0-4df8b2008fb8"
      },
      "execution_count": null,
      "outputs": [
        {
          "output_type": "stream",
          "name": "stdout",
          "text": [
            "True\n"
          ]
        }
      ]
    },
    {
      "cell_type": "code",
      "source": [
        "testes_d = [\"a\", \"ac\", \"acccccccc\", \"aaaabbbbac\", \"aaaabac\", \"bac\", \"aaa\", \"ε\", \"abc\", \"aaaaaab\", \"bbb\", \"ccc\"]\n",
        "for teste in testes_d:\n",
        "  print(f\"w = {teste} | aceito = {automato_d.accept(teste)}\")"
      ],
      "metadata": {
        "colab": {
          "base_uri": "https://localhost:8080/"
        },
        "id": "y71gzMzu_TdG",
        "outputId": "abfd3116-a5cb-47dc-ff06-81a550d3c689"
      },
      "execution_count": null,
      "outputs": [
        {
          "output_type": "stream",
          "name": "stdout",
          "text": [
            "w = a | aceito = True\n",
            "w = ac | aceito = True\n",
            "w = acccccccc | aceito = True\n",
            "w = aaaabbbbac | aceito = True\n",
            "w = aaaabac | aceito = True\n",
            "w = bac | aceito = True\n",
            "w = aaa | aceito = True\n",
            "w = ε | aceito = False\n",
            "w = abc | aceito = False\n",
            "w = aaaaaab | aceito = False\n",
            "w = bbb | aceito = False\n",
            "w = ccc | aceito = False\n"
          ]
        }
      ]
    },
    {
      "cell_type": "markdown",
      "source": [
        "Questão 2"
      ],
      "metadata": {
        "id": "APZW-7Jv_VdG"
      }
    },
    {
      "cell_type": "code",
      "source": [
        "from automathon import DFA #importar automato finito deterministico\n",
        "\n",
        "Q_2 = {\"q0\", \"q1\", \"q2\", \"q3\", \"q4\", \"q5\", \"q6\", \"q7\", \"q8\", \"q9\", \"q10\", \"q11\"}\n",
        "alfabeto_2 = {\"c\", \"o\", \"m\", \"p\", \"u\", \"t\", \"a\", \"d\", \"r\", \".\", \"!\", \",\", \"?\"}\n",
        "trasicao_2 = {\n",
        "    \"q0\" : {\"c\" : \"q1\"},\n",
        "    \"q1\" : {\"o\" : \"q2\"},\n",
        "    \"q2\" : {\"m\" : \"q3\"},\n",
        "    \"q3\" : {\"p\" : \"q4\"},\n",
        "    \"q4\" : {\"u\" : \"q5\"},\n",
        "    \"q5\" : {\"t\" : \"q6\"},\n",
        "    \"q6\" : {\"a\" : \"q7\"},\n",
        "    \"q7\" : {\"d\" : \"q8\"},\n",
        "    \"q8\" : {\"o\" : \"q9\"},\n",
        "    \"q9\" : {\"r\" : \"q10\"},\n",
        "    \"q10\" : {\".\" : \"q11\", \"!\" : \"q11\", \",\" : \"q11\", \"?\" : \"q11\"}\n",
        "}\n",
        "F_2 = {\"q10\", \"q11\"}\n",
        "\n",
        "automato_2 = DFA(Q_2, alfabeto_2, trasicao_2, \"q0\", F_2)\n",
        "print(automato_2.is_valid())\n",
        "#automato_2.view(\"Automato2\")"
      ],
      "metadata": {
        "colab": {
          "base_uri": "https://localhost:8080/"
        },
        "id": "TJpkiahe_W6X",
        "outputId": "aba90966-e851-4c5b-eeac-002335f6458a"
      },
      "execution_count": null,
      "outputs": [
        {
          "output_type": "stream",
          "name": "stdout",
          "text": [
            "True\n"
          ]
        }
      ]
    },
    {
      "cell_type": "code",
      "source": [
        "contador = 0 #contador ate a ocorrencia\n",
        "texto_de_busca = \"O computador é uma máquina capaz de variados tipos de tratamento automático de informações ou processamento de dados. Entende-se por computador um sistema físico que realiza algum tipo de computação. Assumiu-se que os computadores pessoais e laptops são ícones da era da informação. O primeiro computador eletromecânico foi construído por Konrad Zuse (1910–1995). Atualmente, um microcomputador é também chamado computador pessoal ou ainda computador doméstico.\" #texto para ser feito a busca\n",
        "texto_dividido = texto_de_busca.split() #divide o texto onde tem espaco\n",
        "for texto in texto_dividido: #percorre cada palavra do texto\n",
        "  contador = contador + 1\n",
        "  if automato_2.accept(texto): #caso encontre a ocorrencia\n",
        "    aux2 = 0\n",
        "    posicao = 0 #indicador de onde houve a ocorrencia\n",
        "    for aux1 in texto_dividido: #percorre novamente todo o texto\n",
        "      aux2 = aux2 + 1\n",
        "      if aux2 == contador: #quando chegar no ponto da ocorrencia\n",
        "        break\n",
        "      else:\n",
        "        posicao = posicao + len(aux1) + 1\n",
        "    print(f\"Ocorrencia de 'computador' na posição {posicao}\")"
      ],
      "metadata": {
        "colab": {
          "base_uri": "https://localhost:8080/"
        },
        "id": "xW3FsM4F_aEf",
        "outputId": "1c3fe54c-e24c-4760-9d89-8a8ac84bd539"
      },
      "execution_count": null,
      "outputs": [
        {
          "output_type": "stream",
          "name": "stdout",
          "text": [
            "Ocorrencia de 'computador' na posição 2\n",
            "Ocorrencia de 'computador' na posição 133\n",
            "Ocorrencia de 'computador' na posição 294\n",
            "Ocorrencia de 'computador' na posição 412\n",
            "Ocorrencia de 'computador' na posição 440\n"
          ]
        }
      ]
    },
    {
      "cell_type": "code",
      "source": [
        "def testeq2 (automato, busca):\n",
        "  contador = 0 #contador ate a ocorrencia\n",
        "  for texto in busca: #percorre cada palavra do texto\n",
        "    contador = contador + 1\n",
        "    if automato_2.accept(texto): #caso encontre a ocorrencia\n",
        "      aux2 = 0\n",
        "      posicao = 0 #indicador de onde houve a ocorrencia\n",
        "      for aux1 in busca: #percorre novamente todo o texto\n",
        "        aux2 = aux2 + 1\n",
        "        if aux2 == contador: #quando chegar no ponto da ocorrencia\n",
        "          break\n",
        "        else:\n",
        "          posicao = posicao + len(aux1) + 1\n",
        "      print(f\"Ocorrencia de 'computador' na posição {posicao}\")\n",
        "\n",
        "teste_2 = [\"computador\", \"computador.\", \"computador?\", \"computador!\", \"computador,\", \"O computador\", \"computador bom\", \"O computador é novo.\", \"computador computador\", \"ε\", \"com putador\", \"Computador\", \"comPutador\", \"microcomputador\", \"computadores\"]\n",
        "for teste in teste_2:\n",
        "  teste_dividido = teste.split()\n",
        "  print(f\"Testando {teste_dividido}\")\n",
        "  testeq2(automato_2, teste_dividido)\n",
        "  print(\"--------------------------------\")"
      ],
      "metadata": {
        "colab": {
          "base_uri": "https://localhost:8080/"
        },
        "id": "orcMKgw2_biG",
        "outputId": "6b9f1a4b-dcb5-449d-a7d5-74493848b6c6"
      },
      "execution_count": null,
      "outputs": [
        {
          "output_type": "stream",
          "name": "stdout",
          "text": [
            "Testando ['computador']\n",
            "Ocorrencia de 'computador' na posição 0\n",
            "--------------------------------\n",
            "Testando ['computador.']\n",
            "Ocorrencia de 'computador' na posição 0\n",
            "--------------------------------\n",
            "Testando ['computador?']\n",
            "Ocorrencia de 'computador' na posição 0\n",
            "--------------------------------\n",
            "Testando ['computador!']\n",
            "Ocorrencia de 'computador' na posição 0\n",
            "--------------------------------\n",
            "Testando ['computador,']\n",
            "Ocorrencia de 'computador' na posição 0\n",
            "--------------------------------\n",
            "Testando ['O', 'computador']\n",
            "Ocorrencia de 'computador' na posição 2\n",
            "--------------------------------\n",
            "Testando ['computador', 'bom']\n",
            "Ocorrencia de 'computador' na posição 0\n",
            "--------------------------------\n",
            "Testando ['O', 'computador', 'é', 'novo.']\n",
            "Ocorrencia de 'computador' na posição 2\n",
            "--------------------------------\n",
            "Testando ['computador', 'computador']\n",
            "Ocorrencia de 'computador' na posição 0\n",
            "Ocorrencia de 'computador' na posição 11\n",
            "--------------------------------\n",
            "Testando ['ε']\n",
            "--------------------------------\n",
            "Testando ['com', 'putador']\n",
            "--------------------------------\n",
            "Testando ['Computador']\n",
            "--------------------------------\n",
            "Testando ['comPutador']\n",
            "--------------------------------\n",
            "Testando ['microcomputador']\n",
            "--------------------------------\n",
            "Testando ['computadores']\n",
            "--------------------------------\n"
          ]
        }
      ]
    },
    {
      "cell_type": "markdown",
      "source": [
        "Questão 3"
      ],
      "metadata": {
        "id": "ryw9grCz_d2-"
      }
    },
    {
      "cell_type": "code",
      "source": [
        "pip install pyfoma"
      ],
      "metadata": {
        "colab": {
          "base_uri": "https://localhost:8080/"
        },
        "id": "Ybl4IgjK_ff-",
        "outputId": "feb85ccc-286e-496a-f446-d5ce9b2974f0"
      },
      "execution_count": null,
      "outputs": [
        {
          "output_type": "stream",
          "name": "stdout",
          "text": [
            "Collecting pyfoma\n",
            "  Downloading pyfoma-1.0.6-py3-none-any.whl (37 kB)\n",
            "Requirement already satisfied: IPython in /usr/local/lib/python3.10/dist-packages (from pyfoma) (7.34.0)\n",
            "Requirement already satisfied: graphviz in /usr/local/lib/python3.10/dist-packages (from pyfoma) (0.16)\n",
            "Requirement already satisfied: setuptools>=18.5 in /usr/local/lib/python3.10/dist-packages (from IPython->pyfoma) (67.7.2)\n",
            "Collecting jedi>=0.16 (from IPython->pyfoma)\n",
            "  Downloading jedi-0.19.1-py2.py3-none-any.whl (1.6 MB)\n",
            "\u001b[2K     \u001b[90m━━━━━━━━━━━━━━━━━━━━━━━━━━━━━━━━━━━━━━━━\u001b[0m \u001b[32m1.6/1.6 MB\u001b[0m \u001b[31m9.7 MB/s\u001b[0m eta \u001b[36m0:00:00\u001b[0m\n",
            "\u001b[?25hRequirement already satisfied: decorator in /usr/local/lib/python3.10/dist-packages (from IPython->pyfoma) (4.4.2)\n",
            "Requirement already satisfied: pickleshare in /usr/local/lib/python3.10/dist-packages (from IPython->pyfoma) (0.7.5)\n",
            "Requirement already satisfied: traitlets>=4.2 in /usr/local/lib/python3.10/dist-packages (from IPython->pyfoma) (5.7.1)\n",
            "Requirement already satisfied: prompt-toolkit!=3.0.0,!=3.0.1,<3.1.0,>=2.0.0 in /usr/local/lib/python3.10/dist-packages (from IPython->pyfoma) (3.0.45)\n",
            "Requirement already satisfied: pygments in /usr/local/lib/python3.10/dist-packages (from IPython->pyfoma) (2.16.1)\n",
            "Requirement already satisfied: backcall in /usr/local/lib/python3.10/dist-packages (from IPython->pyfoma) (0.2.0)\n",
            "Requirement already satisfied: matplotlib-inline in /usr/local/lib/python3.10/dist-packages (from IPython->pyfoma) (0.1.7)\n",
            "Requirement already satisfied: pexpect>4.3 in /usr/local/lib/python3.10/dist-packages (from IPython->pyfoma) (4.9.0)\n",
            "Requirement already satisfied: parso<0.9.0,>=0.8.3 in /usr/local/lib/python3.10/dist-packages (from jedi>=0.16->IPython->pyfoma) (0.8.4)\n",
            "Requirement already satisfied: ptyprocess>=0.5 in /usr/local/lib/python3.10/dist-packages (from pexpect>4.3->IPython->pyfoma) (0.7.0)\n",
            "Requirement already satisfied: wcwidth in /usr/local/lib/python3.10/dist-packages (from prompt-toolkit!=3.0.0,!=3.0.1,<3.1.0,>=2.0.0->IPython->pyfoma) (0.2.13)\n",
            "Installing collected packages: jedi, pyfoma\n",
            "Successfully installed jedi-0.19.1 pyfoma-1.0.6\n"
          ]
        }
      ]
    },
    {
      "cell_type": "code",
      "source": [
        "from pyfoma import FST, State\n",
        "\n",
        "transdutor_3 = FST() #cria um transdutor\n",
        "q0 = transdutor_3.initialstate #q0 estado inicial\n",
        "q1 = State() #estado 25 centavos\n",
        "q2 = State() #estado 50 centavos\n",
        "q3 = State() #estado 75 centavos\n",
        "q4 = State() #estado 0 centavos\n",
        "\n",
        "q0.add_transition(q1, (\"25\", \"0\"), 0) #adicionando transicao\n",
        "q0.add_transition(q2, (\"50\", \"0\"), 0) #adicionando transicao\n",
        "q0.add_transition(q4, (\"100\", \"1\"), 0) #adicionando transicao\n",
        "\n",
        "q1.add_transition(q2, (\"25\", \"0\"), 0) #adicionando transicao\n",
        "q1.add_transition(q3, (\"50\", \"0\"), 0) #adicionando transicao\n",
        "q1.add_transition(q1, (\"100\", \"1\"), 0) #adicionando transicao\n",
        "\n",
        "q2.add_transition(q3, (\"25\", \"0\"), 0) #adicionando transicao\n",
        "q2.add_transition(q4, (\"50\", \"1\"), 0) #adicionando transicao\n",
        "q2.add_transition(q2, (\"100\", \"1\"), 0) #adicionando transicao\n",
        "\n",
        "q3.add_transition(q4, (\"25\", \"1\"), 0) #adicionando transicao\n",
        "q3.add_transition(q1, (\"50\", \"1\"), 0) #adicionando transicao\n",
        "q3.add_transition(q3, (\"100\", \"1\"), 0) #adicionando transicao\n",
        "\n",
        "q4.add_transition(q1, (\"25\", \"0\"), 0) #adicionando transicao\n",
        "q4.add_transition(q2, (\"50\", \"0\"), 0) #adicionando transicao\n",
        "q4.add_transition(q4, (\"100\", \"1\"), 0) #adicionando transicao\n",
        "\n",
        "transdutor_3.states = {q0, q1, q2, q3, q4}\n",
        "transdutor_3.finalstates = {q0, q1, q2, q3, q4}\n",
        "transdutor_3.alphabet = {\"25\", \"50\", \"100\"}\n",
        "\n",
        "#transdutor_3.view()"
      ],
      "metadata": {
        "id": "8uIpF6OZ_hKe"
      },
      "execution_count": null,
      "outputs": []
    },
    {
      "cell_type": "code",
      "source": [
        "print(list(transdutor_3.generate(\"100\" \"25\" \"50\" \"25\", weights = False))) #teste 1\n",
        "print(list(transdutor_3.generate(\"100\" \"100\", weights = False))) #teste 2\n",
        "print(list(transdutor_3.generate(\"100\" \"25\" \"25\" \"25\" \"25\", weights = False))) #teste 3\n",
        "print(list(transdutor_3.generate(\"25\" \"25\" \"25\" \"25\" \"25\" \"25\" \"25\" \"25\" \"25\" \"25\" \"25\", weights = False))) #teste 4\n",
        "print(list(transdutor_3.generate(\"50\" \"50\" \"50\" \"50\" \"50\", weights = False))) #teste 5\n",
        "print(list(transdutor_3.generate(\"100\" \"25\" \"25\" \"25\" \"50\" \"50\" \"25\", weights = False))) #teste 6\n",
        "print(list(transdutor_3.generate(\"25\" \"25\" \"25\" \"100\", weights = False))) #teste 7\n",
        "print(list(transdutor_3.generate(\"50\" \"100\" \"50\" \"25\" \"100\", weights = False))) #teste 8\n",
        "print(list(transdutor_3.generate(\"50\" \"25\" \"50\" \"100\" \"25\" \"50\" \"100\", weights = False))) #teste 9 (do trabalho)\n",
        "print(list(transdutor_3.generate(\"\", weights = False))) #teste 10 (cadeia vazia)"
      ],
      "metadata": {
        "colab": {
          "base_uri": "https://localhost:8080/"
        },
        "id": "bbWLY8zM_ine",
        "outputId": "097bf01b-a8bf-486f-97c1-df0217b8580b"
      },
      "execution_count": null,
      "outputs": [
        {
          "output_type": "stream",
          "name": "stdout",
          "text": [
            "['1001']\n",
            "['11']\n",
            "['10001']\n",
            "['00010001000']\n",
            "['01010']\n",
            "['1000101']\n",
            "['0001']\n",
            "['01101']\n",
            "['0011011']\n",
            "['']\n"
          ]
        }
      ]
    }
  ]
}